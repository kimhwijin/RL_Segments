{
 "cells": [
  {
   "cell_type": "code",
   "execution_count": 11,
   "id": "84f4c383",
   "metadata": {},
   "outputs": [
    {
     "name": "stderr",
     "output_type": "stream",
     "text": [
      "/home/hjkim/anaconda3/envs/torchrl/lib/python3.8/site-packages/ipykernel/ipkernel.py:287: DeprecationWarning: `should_run_async` will not call `transform_cell` automatically in the future. Please pass the result to `transformed_cell` argument and any exception that happen during thetransform in `preprocessing_exc_tuple` in IPython 7.17 and above.\n",
      "  and should_run_async(code)\n"
     ]
    }
   ],
   "source": [
    "import re\n",
    "import matplotlib.pyplot as plt\n",
    "\n",
    "\n",
    "import re\n",
    "import matplotlib.pyplot as plt\n",
    "from functools import partial\n",
    "from sklearn.metrics import accuracy_score, f1_score\n",
    "import numpy as np\n",
    "\n",
    "import torch\n",
    "import torch.nn as nn\n",
    "import torch.nn.functional as F\n",
    "\n",
    "from tensordict import TensorDict\n",
    "from tensordict.nn import TensorDictModule, InteractionType\n",
    "\n",
    "from torchrl.data import BoundedTensorSpec\n",
    "from torchrl.modules import ProbabilisticActor, ValueOperator\n",
    "\n",
    "\n",
    "from dataloader import SeqComb\n",
    "from models import Policy, Value, Predictor\n",
    "from distributions import CategoricalToNegativeBinomial, CategoricalToCategorical, NegativeBinomialToNegativeBinomial\n",
    "from utils import get_exp_name, masking, env\n",
    "from rewards import Reward\n",
    "\n",
    "\n",
    "def test_sample_plots(\n",
    "    loss,\n",
    "    backbone,\n",
    "    weights,\n",
    "    seg_dist,\n",
    "    dataset,\n",
    "):  \n",
    "    d_in = 1\n",
    "    d_model = 128\n",
    "    test_set = SeqComb.get_SeqComv(dataset, 'TEST')\n",
    "    d_out, average = SeqComb.get_num_classes(dataset)\n",
    "    seq_len = 100\n",
    "    device = 'cuda:4'\n",
    "\n",
    "    exp_name = get_exp_name(loss, backbone, weights, seg_dist, dataset)\n",
    "    exp_dir = f'./checkpoints/{exp_name}'\n",
    "\n",
    "    if seg_dist == 'cat_nb':\n",
    "        d_start, d_end = 100, 2\n",
    "        SegmentDistribution = CategoricalToNegativeBinomial\n",
    "    elif seg_dist == 'cat_cat':\n",
    "        d_start, d_end = 100, 100\n",
    "        SegmentDistribution = CategoricalToCategorical\n",
    "    elif seg_dist == 'nb_nb':\n",
    "        d_start, d_end = 2, 2\n",
    "        SegmentDistribution = NegativeBinomialToNegativeBinomial\n",
    "\n",
    "    policy_net = Policy.PolicyNetwork(\n",
    "        d_in = d_in+1,\n",
    "        d_model = d_model,\n",
    "        d_start = d_start,\n",
    "        d_end = d_end,\n",
    "        seq_len = seq_len,\n",
    "        backbone = backbone\n",
    "    )\n",
    "\n",
    "    policy_module = TensorDictModule(\n",
    "        policy_net, \n",
    "        in_keys=['x', 'curr_mask'], \n",
    "        out_keys=['start_logits', 'end_logits']\n",
    "    )\n",
    "\n",
    "    policy_module = ProbabilisticActor(\n",
    "        module=policy_module,\n",
    "        spec=BoundedTensorSpec(low=0, high=seq_len-1, dtype=int, shape=(2,)),\n",
    "        in_keys=[\"start_logits\", \"end_logits\"],\n",
    "        distribution_class=SegmentDistribution,\n",
    "        distribution_kwargs={\"seq_len\": seq_len},\n",
    "        return_log_prob=True,\n",
    "        default_interaction_type=InteractionType.RANDOM\n",
    "    )\n",
    "    policy_module = policy_module.to(device)\n",
    "\n",
    "    class_samples = {}\n",
    "    for c in range(d_out):\n",
    "        class_samples[c] = []\n",
    "\n",
    "    for batch in test_set:\n",
    "        x = batch['x']      # shape [1, T, C]\n",
    "        y = batch['y']\n",
    "        if len(class_samples[y.item()]) < 20:\n",
    "            class_samples[y.item()].append([x.squeeze(0), y])  # [T, C] 혹은 [T]\n",
    "\n",
    "        tot = 0\n",
    "        for k, v in class_samples.items():\n",
    "            tot += len(v)\n",
    "        if tot == 20 * d_out:\n",
    "            break\n",
    "\n",
    "    blackbox_model = Predictor.PredictorNetwork(d_in=1, d_model=64, d_out=d_out, seq_len=seq_len, backbone='tcn')\n",
    "    blackbox_model.load_state_dict(torch.load(f'./blackbox/best_{dataset}_tcn.pth')['model_state'])\n",
    "    blackbox_model = blackbox_model.to(device)\n",
    "    blackbox_model = blackbox_model.eval()\n",
    "\n",
    "    results = torch.load(f'{exp_dir}/{exp_name}.pth')\n",
    "    best_epoch = results['epoch']\n",
    "    best_acc = results['acc']\n",
    "    best_f1 = results['f1']\n",
    "    best_length = results['length']\n",
    "    best_reward = results['reward']\n",
    "    policy_module.load_state_dict(results['policy_state'])\n",
    "\n",
    "    mask_fn = masking.SeqCombMask()\n",
    "    ce_reward_fn = partial(Reward.exp_minus_cross_entropy_reward, mask_fn=mask_fn, predictor=blackbox_model)\n",
    "    length_reward_fn = Reward.length_reward\n",
    "\n",
    "    reward_fns = [ce_reward_fn, length_reward_fn]\n",
    "    reward_fn = partial(Reward.compose_reward, reward_fns=reward_fns, weights=weights)\n",
    "\n",
    "\n",
    "\n",
    "    n_cols = 5\n",
    "    rows_per_class = 20 // n_cols  # 4\n",
    "    n_rows = rows_per_class * d_out    # 클래스 2개\n",
    "\n",
    "    fig, axes = plt.subplots(n_rows, n_cols, figsize=(20, 4 * n_rows), sharey=True)\n",
    "    for cls in range(d_out):\n",
    "        for idx, (x_sample, y_sample) in enumerate(class_samples[cls]):\n",
    "            row = cls * rows_per_class + idx // n_cols\n",
    "            col = idx % n_cols\n",
    "\n",
    "            x_tensor = x_sample.unsqueeze(0).to(device)  # [1, T, C]\n",
    "            y_tensor = y_sample.unsqueeze(0).to(device)  # [1, T, C]\n",
    "            B = 1\n",
    "            with torch.no_grad():\n",
    "                td = TensorDict(\n",
    "                    {\"x\": x_tensor, 'y':y_tensor ,\"curr_mask\": torch.zeros_like(x_tensor, dtype=torch.bool)},\n",
    "                    batch_size=(B,), device=device\n",
    "                )\n",
    "                # 결정론적 모드로 한 번만 env.step() → mask 생성\n",
    "                env.step(td, policy_module, reward_fn, mode=True)\n",
    "\n",
    "            # 마스크와 원본/마스킹 시퀀스 추출\n",
    "            mask = td[\"next\", \"curr_mask\"][0].cpu().squeeze().numpy()    # [T]\n",
    "            x_np = x_sample.cpu().squeeze().numpy()\n",
    "            x_masked = masking.SeqCombMask()(x_tensor, td[\"next\", \"curr_mask\"])\n",
    "            x_masked = x_masked.squeeze().cpu().numpy()\n",
    "\n",
    "            x_masked_td = masking.SeqCombMask()(x_tensor, td[\"next\", \"curr_mask\"])\n",
    "            \n",
    "            with torch.no_grad():\n",
    "                probs = blackbox_model(x_masked_td).softmax(-1)\n",
    "            prob_true = probs[0, cls].item()\n",
    "\n",
    "            ax = axes[row][col]\n",
    "            ax.plot(x_np,    label=\"Original\")\n",
    "            ax.plot(x_masked, label=\"Masked\")\n",
    "            ax.text(0.95, 0.95, f\"P(class={cls})={prob_true:.2f}\",\n",
    "                    ha='right', va='top', transform=ax.transAxes,\n",
    "                    bbox=dict(boxstyle=\"round,pad=0.3\", fc=\"white\", ec=\"black\", alpha=0.7))\n",
    "\n",
    "            # 마스크된 구간 강조 (axvspan)\n",
    "            mi = mask.astype(int)\n",
    "            d = np.diff(mi)\n",
    "            starts = np.where(d == 1)[0] + 1\n",
    "            ends   = np.where(d == -1)[0] + 1\n",
    "            if mask[0]:\n",
    "                starts = np.r_[0, starts]\n",
    "            if mask[-1]:\n",
    "                ends = np.r_[ends, mask.size]\n",
    "            for s, e in zip(starts, ends):\n",
    "                ax.axvspan(s, e, alpha=0.3)\n",
    "\n",
    "            ax.set_title(f\"Class {cls} Sample {idx+1}\")\n",
    "            if col == 0:\n",
    "                ax.set_ylabel(\"Value\")\n",
    "\n",
    "    # 범례 한 번만 표시\n",
    "    axes[0][0].legend(loc=\"lower right\")\n",
    "    fig.suptitle(\"Test Samples: Original vs Masked\", fontsize=16)\n",
    "    fig.tight_layout(rect=[0, 0.03, 1, 0.95])\n",
    "    # plt.savefig(f\"{exp_dir}/sample.png\")\n",
    "    plt.close()\n",
    "    return policy_module, td"
   ]
  },
  {
   "cell_type": "code",
   "execution_count": 12,
   "id": "fa0a0acd",
   "metadata": {},
   "outputs": [
    {
     "name": "stderr",
     "output_type": "stream",
     "text": [
      "/home/hjkim/anaconda3/envs/torchrl/lib/python3.8/site-packages/torch/nn/utils/weight_norm.py:134: FutureWarning: `torch.nn.utils.weight_norm` is deprecated in favor of `torch.nn.utils.parametrizations.weight_norm`.\n",
      "  WeightNorm.apply(module, name, dim)\n"
     ]
    },
    {
     "name": "stdout",
     "output_type": "stream",
     "text": [
      "onetwo_ppo_tcn_cat_nb_0.7,0.3\n"
     ]
    },
    {
     "name": "stderr",
     "output_type": "stream",
     "text": [
      "<ipython-input-11-3312bc9e9d6d>:99: FutureWarning: You are using `torch.load` with `weights_only=False` (the current default value), which uses the default pickle module implicitly. It is possible to construct malicious pickle data which will execute arbitrary code during unpickling (See https://github.com/pytorch/pytorch/blob/main/SECURITY.md#untrusted-models for more details). In a future release, the default value for `weights_only` will be flipped to `True`. This limits the functions that could be executed during unpickling. Arbitrary objects will no longer be allowed to be loaded via this mode unless they are explicitly allowlisted by the user via `torch.serialization.add_safe_globals`. We recommend you start setting `weights_only=True` for any use case where you don't have full control of the loaded file. Please open an issue on GitHub for any issues related to this experimental feature.\n",
      "  blackbox_model.load_state_dict(torch.load(f'./blackbox/best_{dataset}_tcn.pth')['model_state'])\n",
      "<ipython-input-11-3312bc9e9d6d>:103: FutureWarning: You are using `torch.load` with `weights_only=False` (the current default value), which uses the default pickle module implicitly. It is possible to construct malicious pickle data which will execute arbitrary code during unpickling (See https://github.com/pytorch/pytorch/blob/main/SECURITY.md#untrusted-models for more details). In a future release, the default value for `weights_only` will be flipped to `True`. This limits the functions that could be executed during unpickling. Arbitrary objects will no longer be allowed to be loaded via this mode unless they are explicitly allowlisted by the user via `torch.serialization.add_safe_globals`. We recommend you start setting `weights_only=True` for any use case where you don't have full control of the loaded file. Please open an issue on GitHub for any issues related to this experimental feature.\n",
      "  results = torch.load(f'{exp_dir}/{exp_name}.pth')\n"
     ]
    }
   ],
   "source": [
    "loss='ppo'; backbone='tcn'; weights=[0.7, 0.3]; seg_dist='cat_nb'; dataset='onetwo'\n",
    "policy_module, td = test_sample_plots(loss, backbone, weights, seg_dist, dataset)"
   ]
  },
  {
   "cell_type": "code",
   "execution_count": 15,
   "id": "bffb53aa",
   "metadata": {},
   "outputs": [],
   "source": [
    "dist = policy_module.get_dist(td)"
   ]
  },
  {
   "cell_type": "code",
   "execution_count": null,
   "id": "62d87891",
   "metadata": {},
   "outputs": [
    {
     "data": {
      "image/png": "[encoded data removed]",
      "text/plain": [
       "<Figure size 640x480 with 1 Axes>"
      ]
     },
     "metadata": {},
     "output_type": "display_data"
    }
   ],
   "source": [
    "p_s = dist.cat.logits.softmax(-1)\n",
    "nb_r = dist.nb.total_count\n",
    "nb_p = dist.nb.logits.sigmoid()\n",
    "\n",
    "k = torch.arange(100, device=p_s.device)\n",
    "\n",
    "import scipy\n",
    "\n",
    "import matplotlib.pyplot as plt\n",
    "scipy.special.betainc(nb_r.detach().cpu().numpy(), k.detach().cpu().numpy() + 1, nb_p.detach().cpu().numpy())\n",
    "\n"
   ]
  },
  {
   "cell_type": "code",
   "execution_count": 40,
   "id": "d8a9cccd",
   "metadata": {},
   "outputs": [
    {
     "data": {
      "text/plain": [
       "<function torch._VariableFunctionsClass.lgamma>"
      ]
     },
     "execution_count": 40,
     "metadata": {},
     "output_type": "execute_result"
    }
   ],
   "source": [
    "torch.lgamma"
   ]
  },
  {
   "cell_type": "code",
   "execution_count": null,
   "id": "675afe17",
   "metadata": {},
   "outputs": [
    {
     "name": "stderr",
     "output_type": "stream",
     "text": [
      "/home/hjkim/anaconda3/envs/torchrl/lib/python3.8/site-packages/ipykernel/ipkernel.py:287: DeprecationWarning: `should_run_async` will not call `transform_cell` automatically in the future. Please pass the result to `transformed_cell` argument and any exception that happen during thetransform in `preprocessing_exc_tuple` in IPython 7.17 and above.\n",
      "  and should_run_async(code)\n"
     ]
    },
    {
     "data": {
      "text/plain": [
       "<module 'torch.special' from '/home/hjkim/anaconda3/envs/torchrl/lib/python3.8/site-packages/torch/special/__init__.py'>"
      ]
     },
     "execution_count": 29,
     "metadata": {},
     "output_type": "execute_result"
    }
   ],
   "source": [
    "torch.special.bet"
   ]
  }
 ],
 "metadata": {
  "kernelspec": {
   "display_name": "torchrl",
   "language": "python",
   "name": "python3"
  },
  "language_info": {
   "codemirror_mode": {
    "name": "ipython",
    "version": 3
   },
   "file_extension": ".py",
   "mimetype": "text/x-python",
   "name": "python",
   "nbconvert_exporter": "python",
   "pygments_lexer": "ipython3",
   "version": "3.8.3"
  }
 },
 "nbformat": 4,
 "nbformat_minor": 5
}
